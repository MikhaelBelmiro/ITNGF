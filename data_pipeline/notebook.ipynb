{
 "cells": [
  {
   "attachments": {},
   "cell_type": "markdown",
   "metadata": {},
   "source": [
    "### Auto"
   ]
  },
  {
   "cell_type": "code",
   "execution_count": 45,
   "metadata": {},
   "outputs": [],
   "source": [
    "import numpy as np\n",
    "\n",
    "import pandas as pd"
   ]
  },
  {
   "cell_type": "code",
   "execution_count": 46,
   "metadata": {},
   "outputs": [],
   "source": [
    "auto = pd.read_excel(\"/mnt/e/Kerjaan/Kuliah/S2/thesis_3/data/auto/raw/auto.xls\")\n",
    "auto_numpy = auto.to_numpy()[:, 1:].astype(float)\n",
    "np.save(\"/mnt/e/Kerjaan/Kuliah/S2/thesis_3/data/auto/preprocessed/ts\", auto_numpy)"
   ]
  },
  {
   "attachments": {},
   "cell_type": "markdown",
   "metadata": {},
   "source": [
    "### Car Parts"
   ]
  },
  {
   "cell_type": "code",
   "execution_count": 13,
   "metadata": {},
   "outputs": [],
   "source": [
    "import numpy as np\n",
    "import pandas as pd"
   ]
  },
  {
   "cell_type": "code",
   "execution_count": 15,
   "metadata": {},
   "outputs": [],
   "source": [
    "carparts_df = pd.read_csv(\"/mnt/e/Kerjaan/Kuliah/S2/thesis_3/data/carparts/raw/carparts.csv\").dropna()\n",
    "carparts_numpy = carparts_df.to_numpy()[:, 1:]\n",
    "np.save(\"/mnt/e/Kerjaan/Kuliah/S2/thesis_3/data/carparts/preprocessed/ts\", carparts_numpy)"
   ]
  },
  {
   "attachments": {},
   "cell_type": "markdown",
   "metadata": {},
   "source": [
    "### RAF"
   ]
  },
  {
   "cell_type": "code",
   "execution_count": 1,
   "metadata": {},
   "outputs": [],
   "source": [
    "import json\n",
    "\n",
    "import numpy as np"
   ]
  },
  {
   "cell_type": "code",
   "execution_count": 21,
   "metadata": {},
   "outputs": [],
   "source": [
    "with open(\"../data/raf/raw/train/data.json\") as raf_train:\n",
    "    raf_train = json.load(raf_train)\n",
    "\n",
    "with open(\"../data/raf/raw/test/data.json\") as raf_test:\n",
    "    raf_test = json.load(raf_test)"
   ]
  },
  {
   "cell_type": "code",
   "execution_count": 50,
   "metadata": {},
   "outputs": [],
   "source": [
    "targets = []\n",
    "for train, test in zip(raf_train, raf_test):\n",
    "    test_target = test[\"target\"]\n",
    "    targets.append(test_target)\n",
    "\n",
    "raf_numpy = np.array(targets)\n",
    "np.save(\"../data/raf/preprocessed/ts\", raf_numpy)"
   ]
  },
  {
   "attachments": {},
   "cell_type": "markdown",
   "metadata": {},
   "source": [
    "## Exploration"
   ]
  },
  {
   "cell_type": "code",
   "execution_count": 1,
   "metadata": {},
   "outputs": [],
   "source": [
    "import numpy as np"
   ]
  },
  {
   "cell_type": "code",
   "execution_count": 61,
   "metadata": {},
   "outputs": [],
   "source": [
    "auto = np.load(\"../data/auto/preprocessed/ts.npy\")\n",
    "raf = np.load(\"../data/raf/preprocessed/ts.npy\")\n",
    "carparts = np.load(\"../data/carparts/preprocessed/ts.npy\")"
   ]
  },
  {
   "cell_type": "code",
   "execution_count": 70,
   "metadata": {},
   "outputs": [],
   "source": [
    "def create_summaries(numpy_data):\n",
    "    ps, covs = [], []\n",
    "    dtypes = {\n",
    "        \"smooth\": 0,\n",
    "        \"intermittent\": 0,\n",
    "        \"lumpy\": 0,\n",
    "        \"erratic\": 0,\n",
    "    }\n",
    "    for i in range(numpy_data.shape[0]):\n",
    "        single_numpy_data = numpy_data[i, :]\n",
    "        p = len(single_numpy_data)/len(single_numpy_data[single_numpy_data!=0])\n",
    "        cov = (np.std(single_numpy_data[single_numpy_data!=0])/np.mean(single_numpy_data[single_numpy_data!=0]))**2\n",
    "\n",
    "        ps.append(p)\n",
    "        covs.append(cov)\n",
    "\n",
    "        if p < 1.32 and cov < 0.49:\n",
    "            dtypes[\"smooth\"] += 1\n",
    "        elif p < 1.32 and cov >= 0.49:\n",
    "            dtypes[\"erratic\"] += 1\n",
    "        elif p >= 1.32 and cov < 0.49:\n",
    "            dtypes[\"intermittent\"] += 1\n",
    "        else:\n",
    "            dtypes[\"lumpy\"] += 1\n",
    "\n",
    "    return_str = \"\"\"mean_p: {} \\nmean_covs: {} \\nts_classification: \\n{}\n",
    "    \"\"\".format(\n",
    "        np.mean(ps),\n",
    "        np.mean(covs),\n",
    "        \"\\n\".join([f\"{key}: {round(val/sum(dtypes.values()) * 100, 2)}\" for key, val in dtypes.items()])\n",
    "    )\n",
    "    return return_str"
   ]
  },
  {
   "cell_type": "code",
   "execution_count": 71,
   "metadata": {},
   "outputs": [
    {
     "name": "stdout",
     "output_type": "stream",
     "text": [
      "Auto\n",
      "mean_p: 1.3200429161481793 \n",
      "mean_covs: 0.41191122805426433 \n",
      "ts_classification: \n",
      "smooth: 41.37\n",
      "intermittent: 35.8\n",
      "lumpy: 10.23\n",
      "erratic: 12.6\n",
      "    \n",
      "RAF\n",
      "mean_p: 11.135707019708878 \n",
      "mean_covs: 0.6306787975894361 \n",
      "ts_classification: \n",
      "smooth: 0.0\n",
      "intermittent: 58.1\n",
      "lumpy: 41.9\n",
      "erratic: 0.0\n",
      "    \n",
      "M5\n",
      "mean_p: 4.873108028920366 \n",
      "mean_covs: 0.39587359693586416 \n",
      "ts_classification: \n",
      "smooth: 4.39\n",
      "intermittent: 75.27\n",
      "lumpy: 18.96\n",
      "erratic: 1.38\n",
      "    \n",
      "Car Parts\n",
      "mean_p: 7.49067238064312 \n",
      "mean_covs: 0.27348444102431807 \n",
      "ts_classification: \n",
      "smooth: 0.0\n",
      "intermittent: 86.57\n",
      "lumpy: 13.43\n",
      "erratic: 0.0\n",
      "    \n"
     ]
    }
   ],
   "source": [
    "print(\"Auto\")\n",
    "print(create_summaries(auto))\n",
    "print(\"RAF\")\n",
    "print(create_summaries(raf))\n",
    "print(\"M5\")\n",
    "print(create_summaries(m5))\n",
    "print(\"Car Parts\")\n",
    "print(create_summaries(carparts))"
   ]
  },
  {
   "cell_type": "code",
   "execution_count": 58,
   "metadata": {},
   "outputs": [
    {
     "name": "stdout",
     "output_type": "stream",
     "text": [
      "Auto\n",
      "mean_p: 1.3200429161481793 \n",
      "mean_covs: 0.8615525556741409 \n",
      "ts_classification: \n",
      "smooth: 656\n",
      "intermittent: 4\n",
      "lumpy: 1377\n",
      "erratic: 963\n",
      "    \n"
     ]
    }
   ],
   "source": []
  },
  {
   "cell_type": "code",
   "execution_count": 59,
   "metadata": {},
   "outputs": [
    {
     "name": "stdout",
     "output_type": "stream",
     "text": [
      "RAF\n",
      "mean_p: 11.135707019708878 \n",
      "mean_covs: 16.61155449154367 \n",
      "ts_classification: \n",
      "smooth: 0\n",
      "intermittent: 0\n",
      "lumpy: 5000\n",
      "erratic: 0\n",
      "    \n"
     ]
    }
   ],
   "source": []
  },
  {
   "cell_type": "code",
   "execution_count": null,
   "metadata": {},
   "outputs": [],
   "source": []
  }
 ],
 "metadata": {
  "kernelspec": {
   "display_name": "thesis_3",
   "language": "python",
   "name": "python3"
  },
  "language_info": {
   "codemirror_mode": {
    "name": "ipython",
    "version": 3
   },
   "file_extension": ".py",
   "mimetype": "text/x-python",
   "name": "python",
   "nbconvert_exporter": "python",
   "pygments_lexer": "ipython3",
   "version": "3.9.16 (main, Mar  8 2023, 14:00:05) \n[GCC 11.2.0]"
  },
  "orig_nbformat": 4,
  "vscode": {
   "interpreter": {
    "hash": "bcafb328f67b928484e1d4f2c4569bed44b3a35e5929db1f6a7e3f25d65c5622"
   }
  }
 },
 "nbformat": 4,
 "nbformat_minor": 2
}
